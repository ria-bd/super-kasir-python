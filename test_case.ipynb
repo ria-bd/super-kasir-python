{
 "cells": [
  {
   "attachments": {},
   "cell_type": "markdown",
   "metadata": {},
   "source": [
    "## Test Case"
   ]
  },
  {
   "cell_type": "code",
   "execution_count": 20,
   "metadata": {},
   "outputs": [],
   "source": [
    "from script import Transaction"
   ]
  },
  {
   "attachments": {},
   "cell_type": "markdown",
   "metadata": {},
   "source": [
    "### Test Case I : Menambahkan Item"
   ]
  },
  {
   "cell_type": "code",
   "execution_count": 21,
   "metadata": {},
   "outputs": [
    {
     "name": "stdout",
     "output_type": "stream",
     "text": [
      "Item dalam pesanan: Es Krim sebanyak 1 dengan harga Rp 7000.\n",
      "Item dalam pesanan: Coklat sebanyak 2 dengan harga Rp 30000.\n"
     ]
    }
   ],
   "source": [
    "orders = Transaction()\n",
    "orders.add_item('Es Krim', 1, 7_000)\n",
    "orders.add_item('Coklat', 2, 30_000)"
   ]
  },
  {
   "attachments": {},
   "cell_type": "markdown",
   "metadata": {},
   "source": [
    "### Test Case II : Menghapus Item"
   ]
  },
  {
   "cell_type": "code",
   "execution_count": 22,
   "metadata": {},
   "outputs": [
    {
     "name": "stdout",
     "output_type": "stream",
     "text": [
      "Item Coklat telah dihapus.\n",
      "\n",
      "| Nama Item   |   Jumlah Item |   Harga per Item |   Total Harga Item |\n",
      "|-------------|---------------|------------------|--------------------|\n",
      "| Es Krim     |             1 |             7000 |               7000 |\n"
     ]
    }
   ],
   "source": [
    "orders.delete_item('Coklat')"
   ]
  },
  {
   "attachments": {},
   "cell_type": "markdown",
   "metadata": {},
   "source": [
    "### Test Case III: Mereset Seluruh Item"
   ]
  },
  {
   "cell_type": "code",
   "execution_count": 23,
   "metadata": {},
   "outputs": [
    {
     "name": "stdout",
     "output_type": "stream",
     "text": [
      "Seluruh item berhasil dihapus.\n"
     ]
    }
   ],
   "source": [
    "orders.reset_transaction()"
   ]
  },
  {
   "attachments": {},
   "cell_type": "markdown",
   "metadata": {},
   "source": [
    "### Test Case IV : Menghitung Total Belanja"
   ]
  },
  {
   "cell_type": "code",
   "execution_count": 25,
   "metadata": {},
   "outputs": [
    {
     "name": "stdout",
     "output_type": "stream",
     "text": [
      "Item dalam pesanan: Es Krim sebanyak 1 dengan harga Rp 7000.\n",
      "Item dalam pesanan: Coklat sebanyak 2 dengan harga Rp 30000.\n"
     ]
    }
   ],
   "source": [
    "orders = Transaction()\n",
    "orders.add_item('Es Krim', 1, 7_000)\n",
    "orders.add_item('Coklat', 2, 30_000)"
   ]
  },
  {
   "cell_type": "code",
   "execution_count": 26,
   "metadata": {},
   "outputs": [
    {
     "name": "stdout",
     "output_type": "stream",
     "text": [
      "| Nama Item   |   Jumlah Item |   Harga per Item |   Total Harga Item |\n",
      "|-------------|---------------|------------------|--------------------|\n",
      "| Es Krim     |             1 |             7000 |               7000 |\n",
      "| Coklat      |             2 |            30000 |              60000 |\n",
      "Pesanan sudah benar.\n",
      "Total belanja Anda adalah Rp 67000.\n"
     ]
    }
   ],
   "source": [
    "orders.total_price()"
   ]
  },
  {
   "attachments": {},
   "cell_type": "markdown",
   "metadata": {},
   "source": [
    "### Test Case V : Mengubah Item"
   ]
  },
  {
   "cell_type": "code",
   "execution_count": 28,
   "metadata": {},
   "outputs": [
    {
     "name": "stdout",
     "output_type": "stream",
     "text": [
      "Item dalam pesanan: Kopi Susu sebanyak 10 dengan harga Rp 5000.\n",
      "Item dalam pesanan: Biskuit sebanyak 2 dengan harga Rp 15000.\n",
      "Item dalam pesanan: Kacang Goreng sebanyak 5 dengan harga Rp 7000.\n"
     ]
    }
   ],
   "source": [
    "orders = Transaction()\n",
    "orders.add_item('Kopi Susu', 10, 5_000)\n",
    "orders.add_item('Biskuit', 2, 15_000)\n",
    "orders.add_item('Kacang Goreng', 5, 7_000)"
   ]
  },
  {
   "cell_type": "code",
   "execution_count": 29,
   "metadata": {},
   "outputs": [
    {
     "name": "stdout",
     "output_type": "stream",
     "text": [
      "| Nama Item            |   Jumlah Item |   Harga per Item |   Total Harga Item |\n",
      "|----------------------|---------------|------------------|--------------------|\n",
      "| Kopi Susu            |            10 |             5000 |              50000 |\n",
      "| Biskuit              |             2 |            15000 |              30000 |\n",
      "| Kacang Goreng Bawang |             5 |             7000 |              35000 |\n",
      "Nama item Kacang Goreng telah diubah menjadi Kacang Goreng Bawang.\n"
     ]
    }
   ],
   "source": [
    "orders.update_item('Kacang Goreng','Kacang Goreng Bawang')"
   ]
  },
  {
   "attachments": {},
   "cell_type": "markdown",
   "metadata": {},
   "source": [
    "### Test Case VI : Mengubah Jumlah Item"
   ]
  },
  {
   "cell_type": "code",
   "execution_count": null,
   "metadata": {},
   "outputs": [
    {
     "name": "stdout",
     "output_type": "stream",
     "text": [
      "| Nama Item       |   Jumlah Item |   Harga per Item |   Total Harga Item |\n",
      "|-----------------|---------------|------------------|--------------------|\n",
      "| Kopi Susu       |            10 |             5000 |              50000 |\n",
      "| Biskuit         |            10 |            15000 |             150000 |\n",
      "| Kacang Panggang |             5 |             7000 |              35000 |\n",
      "Jumlah item Biskuit telah diubah menjadi 10.\n"
     ]
    }
   ],
   "source": [
    "orders.update_item_qty('Biskuit', 10)"
   ]
  },
  {
   "attachments": {},
   "cell_type": "markdown",
   "metadata": {},
   "source": [
    "### Test Case VII : Mengubah Harga Item"
   ]
  },
  {
   "cell_type": "code",
   "execution_count": null,
   "metadata": {},
   "outputs": [
    {
     "name": "stdout",
     "output_type": "stream",
     "text": [
      "| Nama Item       |   Jumlah Item |   Harga per Item |   Total Harga Item |\n",
      "|-----------------|---------------|------------------|--------------------|\n",
      "| Kopi Susu       |            10 |             7000 |              70000 |\n",
      "| Biskuit         |            10 |            15000 |             150000 |\n",
      "| Kacang Panggang |             5 |             7000 |              35000 |\n",
      "Harga item Kopi Susu telah diubah menjadi 7000.\n"
     ]
    }
   ],
   "source": [
    "orders.update_item_price('Kopi Susu', 7_000)"
   ]
  },
  {
   "attachments": {},
   "cell_type": "markdown",
   "metadata": {},
   "source": [
    "### Test Case VIII : Cek Validitas Pesanan"
   ]
  },
  {
   "cell_type": "code",
   "execution_count": null,
   "metadata": {},
   "outputs": [
    {
     "name": "stdout",
     "output_type": "stream",
     "text": [
      "| Nama Item       |   Jumlah Item |   Harga per Item |   Total Harga Item |\n",
      "|-----------------|---------------|------------------|--------------------|\n",
      "| Kopi Susu       |            10 |             7000 |              70000 |\n",
      "| Biskuit         |            10 |            15000 |             150000 |\n",
      "| Kacang Panggang |             5 |             7000 |              35000 |\n",
      "Pesanan sudah benar.\n"
     ]
    }
   ],
   "source": [
    "orders.check_order()"
   ]
  },
  {
   "attachments": {},
   "cell_type": "markdown",
   "metadata": {},
   "source": [
    "### Test Case IX : Menghitung Total Belanja dan Diskon"
   ]
  },
  {
   "cell_type": "code",
   "execution_count": null,
   "metadata": {},
   "outputs": [
    {
     "name": "stdout",
     "output_type": "stream",
     "text": [
      "| Nama Item       |   Jumlah Item |   Harga per Item |   Total Harga Item |\n",
      "|-----------------|---------------|------------------|--------------------|\n",
      "| Kopi Susu       |            10 |             7000 |              70000 |\n",
      "| Biskuit         |            10 |            15000 |             150000 |\n",
      "| Kacang Panggang |             5 |             7000 |              35000 |\n",
      "Pesanan sudah benar.\n",
      "Anda mendapatkan diskon 5% sebesar Rp 12750. Total belanja Anda adalah Rp 242250 (sudah termasuk diskon).\n"
     ]
    }
   ],
   "source": [
    "orders.total_price()"
   ]
  }
 ],
 "metadata": {
  "kernelspec": {
   "display_name": "Python 3",
   "language": "python",
   "name": "python3"
  },
  "language_info": {
   "codemirror_mode": {
    "name": "ipython",
    "version": 3
   },
   "file_extension": ".py",
   "mimetype": "text/x-python",
   "name": "python",
   "nbconvert_exporter": "python",
   "pygments_lexer": "ipython3",
   "version": "3.11.1"
  },
  "orig_nbformat": 4,
  "vscode": {
   "interpreter": {
    "hash": "3675eb58996dd1fa7dd4d05016cc3fbb387d9652fab7bb2a97ed27bc9caeb49b"
   }
  }
 },
 "nbformat": 4,
 "nbformat_minor": 2
}
